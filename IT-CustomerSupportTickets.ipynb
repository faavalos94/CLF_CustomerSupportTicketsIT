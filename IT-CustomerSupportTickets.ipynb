{
 "cells": [
  {
   "cell_type": "code",
   "execution_count": 1,
   "id": "ba6c8b4e-bcf5-42a4-98eb-07315d703bd5",
   "metadata": {},
   "outputs": [],
   "source": [
    "# Import necessary libraries\n",
    "import lightgbm as lgb\n",
    "import pandas as pd\n",
    "from sklearn.compose import ColumnTransformer\n",
    "from nltk import word_tokenize\n",
    "from datasets import load_dataset\n",
    "from langdetect import detect_langs, DetectorFactory\n",
    "from collections import Counter\n",
    "from sklearn.pipeline import Pipeline\n",
    "from sklearn.preprocessing import MaxAbsScaler\n",
    "from sklearn.linear_model import LogisticRegression\n",
    "from sklearn.model_selection import train_test_split\n",
    "from sklearn.feature_extraction.text import TfidfVectorizer\n",
    "from sklearn.metrics import accuracy_score, confusion_matrix, classification_report"
   ]
  },
  {
   "cell_type": "code",
   "execution_count": 2,
   "id": "67d7e469-a114-40b1-8d88-c598b0d3b9b1",
   "metadata": {},
   "outputs": [],
   "source": [
    "# Load the Hugging Face dataset\n",
    "df = load_dataset('Tobi-Bueck/customer-support-tickets')"
   ]
  },
  {
   "cell_type": "code",
   "execution_count": 3,
   "id": "e522b63c-f3bd-43f1-8ec3-f450a8934b91",
   "metadata": {},
   "outputs": [
    {
     "name": "stdout",
     "output_type": "stream",
     "text": [
      "<class 'datasets.dataset_dict.DatasetDict'>\n"
     ]
    }
   ],
   "source": [
    "print(type(df))"
   ]
  },
  {
   "cell_type": "code",
   "execution_count": 4,
   "id": "b800ca9a-a810-465b-84ce-1cb2aee0eaba",
   "metadata": {},
   "outputs": [],
   "source": [
    "# Convert Hugging Face Dataset to pandas DataFrame\n",
    "df = df['train'].to_pandas()"
   ]
  },
  {
   "cell_type": "code",
   "execution_count": 5,
   "id": "2481b5e1-1d76-4294-b998-59ffde2e7969",
   "metadata": {},
   "outputs": [
    {
     "name": "stdout",
     "output_type": "stream",
     "text": [
      "                                             subject  \\\n",
      "0                    Wesentlicher Sicherheitsvorfall   \n",
      "1                                 Account Disruption   \n",
      "2  Query About Smart Home System Integration Feat...   \n",
      "3                  Inquiry Regarding Invoice Details   \n",
      "4  Question About Marketing Agency Software Compa...   \n",
      "\n",
      "                                                body  \\\n",
      "0  Sehr geehrtes Support-Team,\\n\\nich möchte eine...   \n",
      "1  Dear Customer Support Team,\\n\\nI am writing to...   \n",
      "2  Dear Customer Support Team,\\n\\nI hope this mes...   \n",
      "3  Dear Customer Support Team,\\n\\nI hope this mes...   \n",
      "4  Dear Support Team,\\n\\nI hope this message reac...   \n",
      "\n",
      "                                              answer      type  \\\n",
      "0  Vielen Dank für die Meldung des kritischen Sic...  Incident   \n",
      "1  Thank you for reaching out, <name>. We are awa...  Incident   \n",
      "2  Thank you for your inquiry. Our products suppo...   Request   \n",
      "3  We appreciate you reaching out with your billi...   Request   \n",
      "4  Thank you for your inquiry. Our product suppor...   Problem   \n",
      "\n",
      "                   queue priority language  version     tag_1       tag_2  \\\n",
      "0      Technical Support     high       de     51.0  Security      Outage   \n",
      "1      Technical Support     high       en     51.0   Account  Disruption   \n",
      "2  Returns and Exchanges   medium       en     51.0   Product     Feature   \n",
      "3   Billing and Payments      low       en     51.0   Billing     Payment   \n",
      "4    Sales and Pre-Sales   medium       en     51.0   Product     Feature   \n",
      "\n",
      "          tag_3          tag_4         tag_5 tag_6 tag_7 tag_8  \n",
      "0    Disruption    Data Breach          None  None  None  None  \n",
      "1        Outage             IT  Tech Support  None  None  None  \n",
      "2  Tech Support           None          None  None  None  None  \n",
      "3       Account  Documentation      Feedback  None  None  None  \n",
      "4      Feedback   Tech Support          None  None  None  None  \n"
     ]
    }
   ],
   "source": [
    "# Display first 5 rows of df\n",
    "print(df.head())"
   ]
  },
  {
   "cell_type": "code",
   "execution_count": 6,
   "id": "17cbbf2d-30e7-46f9-86c8-e9e66b00528f",
   "metadata": {},
   "outputs": [],
   "source": [
    "# Subset dataframe\n",
    "df_set = df[['body', 'type', 'language']].copy()"
   ]
  },
  {
   "cell_type": "code",
   "execution_count": 7,
   "id": "3229eb5b-f94a-4665-86af-149bf28c1ca3",
   "metadata": {},
   "outputs": [
    {
     "name": "stdout",
     "output_type": "stream",
     "text": [
      "                                                body      type language\n",
      "0  Sehr geehrtes Support-Team,\\n\\nich möchte eine...  Incident       de\n",
      "1  Dear Customer Support Team,\\n\\nI am writing to...  Incident       en\n",
      "2  Dear Customer Support Team,\\n\\nI hope this mes...   Request       en\n",
      "3  Dear Customer Support Team,\\n\\nI hope this mes...   Request       en\n",
      "4  Dear Support Team,\\n\\nI hope this message reac...   Problem       en\n"
     ]
    }
   ],
   "source": [
    "# Display first 5 rows of new dataframe\n",
    "print(df_set.head())"
   ]
  },
  {
   "cell_type": "code",
   "execution_count": 8,
   "id": "f514c4e7-eab5-424b-8560-088ff80dba03",
   "metadata": {},
   "outputs": [
    {
     "name": "stdout",
     "output_type": "stream",
     "text": [
      "body        2\n",
      "type        0\n",
      "language    0\n",
      "dtype: int64\n"
     ]
    }
   ],
   "source": [
    "# Check for any missing values\n",
    "print(df_set.isna().sum())"
   ]
  },
  {
   "cell_type": "code",
   "execution_count": 9,
   "id": "cb1d1920-8402-495c-aaa5-e2b75fd30d90",
   "metadata": {},
   "outputs": [],
   "source": [
    "# Remove rows with missing data\n",
    "df_set = df_set.dropna()"
   ]
  },
  {
   "cell_type": "code",
   "execution_count": 10,
   "id": "45da58ab-98b2-4fad-a435-15a829eaf112",
   "metadata": {},
   "outputs": [
    {
     "name": "stdout",
     "output_type": "stream",
     "text": [
      "body        0\n",
      "type        0\n",
      "language    0\n",
      "dtype: int64\n"
     ]
    }
   ],
   "source": [
    "# Re-check for missing values\n",
    "print(df_set.isna().sum())"
   ]
  },
  {
   "cell_type": "code",
   "execution_count": 11,
   "id": "c28e2f2a-c51b-473d-8bec-35c6c6db1681",
   "metadata": {},
   "outputs": [],
   "source": [
    "# Make sure languages are correct using langdetect\n",
    "languages = []\n",
    "\n",
    "# Add for consistent results before calling detect_langs\n",
    "DetectorFactory.seed = 9\n",
    "\n",
    "# Loop over the rows of the DataFrame and append to languages list\n",
    "for row in range(len(df_set)):\n",
    "    languages.append(detect_langs(df_set.iloc[row, 0]))\n",
    "\n",
    "# Clean the list by splitting and only keeping language\n",
    "languages = [str(lang).split(':')[0][1:] for lang in languages]"
   ]
  },
  {
   "cell_type": "code",
   "execution_count": 12,
   "id": "9952d35e-2090-4c0e-ae1e-a35b30c7679d",
   "metadata": {},
   "outputs": [
    {
     "name": "stdout",
     "output_type": "stream",
     "text": [
      "['de', 'en', 'en', 'en', 'en', 'en', 'en', 'en', 'de', 'de']\n"
     ]
    }
   ],
   "source": [
    "print(languages[:10])"
   ]
  },
  {
   "cell_type": "code",
   "execution_count": 13,
   "id": "6d88dff0-5161-47a2-b397-3e0dc07959bb",
   "metadata": {},
   "outputs": [
    {
     "name": "stdout",
     "output_type": "stream",
     "text": [
      "Counter({'en': 33432, 'de': 14971, 'fr': 65, 'nl': 20, 'ca': 20, 'it': 19, 'pt': 16, 'af': 12, 'es': 9, 'da': 5, 'no': 4, 'sv': 4, 'id': 3, 'ro': 2, 'et': 1, 'cy': 1, 'fi': 1})\n"
     ]
    }
   ],
   "source": [
    "# Count number of different languages detected\n",
    "counter = Counter(languages)\n",
    "print(counter)"
   ]
  },
  {
   "cell_type": "code",
   "execution_count": 14,
   "id": "bbc0c2e1-90a4-4ec4-9af2-5bf8f77c37bc",
   "metadata": {},
   "outputs": [],
   "source": [
    "# Replace old languages column with new languages\n",
    "df_set['language'] = languages"
   ]
  },
  {
   "cell_type": "code",
   "execution_count": 15,
   "id": "e094e647-07de-4d9c-822c-d34025d350ba",
   "metadata": {},
   "outputs": [
    {
     "name": "stdout",
     "output_type": "stream",
     "text": [
      "                                                body      type language\n",
      "0  Sehr geehrtes Support-Team,\\n\\nich möchte eine...  Incident       de\n",
      "1  Dear Customer Support Team,\\n\\nI am writing to...  Incident       en\n",
      "2  Dear Customer Support Team,\\n\\nI hope this mes...   Request       en\n",
      "3  Dear Customer Support Team,\\n\\nI hope this mes...   Request       en\n",
      "4  Dear Support Team,\\n\\nI hope this message reac...   Problem       en\n"
     ]
    }
   ],
   "source": [
    "# Display first 5 rows of new DataFrame\n",
    "print(df_set.head())"
   ]
  },
  {
   "cell_type": "code",
   "execution_count": 16,
   "id": "7ae7b329-3d2f-4ff8-b4e2-81aa97a3a276",
   "metadata": {},
   "outputs": [],
   "source": [
    "# Keep only the English (en) rows, and reset index\n",
    "it_ticks = df_set[df_set['language'] == 'en'].copy()\n",
    "it_ticks.reset_index(inplace=True, drop=True)"
   ]
  },
  {
   "cell_type": "code",
   "execution_count": 17,
   "id": "04e5e34c-4de3-4330-bd9f-280e6a55a456",
   "metadata": {},
   "outputs": [
    {
     "name": "stdout",
     "output_type": "stream",
     "text": [
      "(33432, 3)\n",
      "                                                body      type language\n",
      "0  Dear Customer Support Team,\\n\\nI am writing to...  Incident       en\n",
      "1  Dear Customer Support Team,\\n\\nI hope this mes...   Request       en\n",
      "2  Dear Customer Support Team,\\n\\nI hope this mes...   Request       en\n",
      "3  Dear Support Team,\\n\\nI hope this message reac...   Problem       en\n",
      "4  Dear Customer Support,\\n\\nI hope this message ...   Request       en\n"
     ]
    }
   ],
   "source": [
    "# Lets check the shape and first 5 rows of it_ticks\n",
    "print(it_ticks.shape)\n",
    "print(it_ticks.head())"
   ]
  },
  {
   "cell_type": "code",
   "execution_count": 18,
   "id": "91d66c7f-87ea-406c-b8ee-192535b06ad4",
   "metadata": {},
   "outputs": [],
   "source": [
    "# Rename columns\n",
    "it_ticks.rename(columns={'body': 'text', 'type': 'label'}, inplace=True)"
   ]
  },
  {
   "cell_type": "code",
   "execution_count": 19,
   "id": "38b82f3c-28cc-4072-8f52-f47fa46c3a9d",
   "metadata": {},
   "outputs": [
    {
     "name": "stdout",
     "output_type": "stream",
     "text": [
      "                                                text     label language\n",
      "0  Dear Customer Support Team,\\n\\nI am writing to...  Incident       en\n",
      "1  Dear Customer Support Team,\\n\\nI hope this mes...   Request       en\n",
      "2  Dear Customer Support Team,\\n\\nI hope this mes...   Request       en\n",
      "3  Dear Support Team,\\n\\nI hope this message reac...   Problem       en\n",
      "4  Dear Customer Support,\\n\\nI hope this message ...   Request       en\n"
     ]
    }
   ],
   "source": [
    "# Confirm changes were made\n",
    "print(it_ticks.head())"
   ]
  },
  {
   "cell_type": "code",
   "execution_count": 20,
   "id": "208d8810-7a27-4617-af81-c4191640b544",
   "metadata": {},
   "outputs": [],
   "source": [
    "# Tokenize each item in the text column\n",
    "word_tokens = [word_tokenize(text) for text in it_ticks['text']]\n",
    "\n",
    "# Create an empty list to store the length of the text\n",
    "len_tokens = []\n",
    "\n",
    "# Iterate over the word_tokens list and determine the length of each item\n",
    "for i in range(len(word_tokens)):\n",
    "    len_tokens.append(len(word_tokens[i]))\n",
    "\n",
    "# Create new feature for the length of each text\n",
    "it_ticks['len_words'] = len_tokens"
   ]
  },
  {
   "cell_type": "code",
   "execution_count": 21,
   "id": "a9018b7b-bf00-4c04-8390-f913c48185fc",
   "metadata": {},
   "outputs": [
    {
     "name": "stdout",
     "output_type": "stream",
     "text": [
      "                                                text     label language  \\\n",
      "0  Dear Customer Support Team,\\n\\nI am writing to...  Incident       en   \n",
      "1  Dear Customer Support Team,\\n\\nI hope this mes...   Request       en   \n",
      "2  Dear Customer Support Team,\\n\\nI hope this mes...   Request       en   \n",
      "3  Dear Support Team,\\n\\nI hope this message reac...   Problem       en   \n",
      "4  Dear Customer Support,\\n\\nI hope this message ...   Request       en   \n",
      "\n",
      "   len_words  \n",
      "0         92  \n",
      "1         84  \n",
      "2        102  \n",
      "3        107  \n",
      "4        110  \n"
     ]
    }
   ],
   "source": [
    "print(it_ticks.head())"
   ]
  },
  {
   "cell_type": "code",
   "execution_count": 22,
   "id": "cdf0dcf1-82be-490c-b7fd-6a9fecf084a5",
   "metadata": {},
   "outputs": [
    {
     "name": "stdout",
     "output_type": "stream",
     "text": [
      "['Incident' 'Request' 'Problem' 'Change']\n"
     ]
    }
   ],
   "source": [
    "print(it_ticks['label'].unique())"
   ]
  },
  {
   "cell_type": "code",
   "execution_count": 23,
   "id": "53bc676e-1c10-44e8-b0f8-caf8ec31c7be",
   "metadata": {},
   "outputs": [],
   "source": [
    "# Set labels and features\n",
    "features = it_ticks[['text', 'len_words']]\n",
    "labels = it_ticks['label']"
   ]
  },
  {
   "cell_type": "code",
   "execution_count": 24,
   "id": "deb383d4-4865-47a5-9239-1375e83f1fec",
   "metadata": {},
   "outputs": [],
   "source": [
    "# Split into train and test sets\n",
    "X_train, X_test, y_train, y_test = train_test_split(features, labels, test_size=0.2, random_state=9)"
   ]
  },
  {
   "cell_type": "code",
   "execution_count": 25,
   "id": "84b44d0f-d680-4a22-b6a1-b6e4b690bc9d",
   "metadata": {},
   "outputs": [],
   "source": [
    "# ColumnTransformer to handle text and len_words columns separately\n",
    "preprocessor = ColumnTransformer(\n",
    "    transformers=[\n",
    "        ('vect', TfidfVectorizer(lowercase=False, ngram_range=(1, 2)), 'text'),\n",
    "        ('len', 'passthrough', ['len_words'])\n",
    "    ]\n",
    ")"
   ]
  },
  {
   "cell_type": "code",
   "execution_count": 26,
   "id": "283d2ae2-ba69-4412-80b3-78705e1147ec",
   "metadata": {},
   "outputs": [],
   "source": [
    "# Create pipeline to chain preprocessing, scaling, and classifier steps together for LogisticRegression\n",
    "pipeline_logreg = Pipeline([\n",
    "    ('preprocess', preprocessor),\n",
    "    ('scaler', MaxAbsScaler()),\n",
    "    ('log_reg', LogisticRegression(max_iter=5000, random_state=9))\n",
    "])"
   ]
  },
  {
   "cell_type": "code",
   "execution_count": 27,
   "id": "c04c207d-bc9c-4495-8a01-54410c9c0aae",
   "metadata": {},
   "outputs": [],
   "source": [
    "# Create pipeline to chaing preprocessing, scaling, and classifier steps together for LightGBM Classifier\n",
    "pipeline_lgb = Pipeline([\n",
    "    ('preprocess', preprocessor),\n",
    "    ('scaler', MaxAbsScaler()),\n",
    "    ('lgb_clf', lgb.LGBMClassifier(random_state=9))\n",
    "])"
   ]
  },
  {
   "cell_type": "code",
   "execution_count": 28,
   "id": "624ffed9-a00f-435d-89ef-40f38195fe23",
   "metadata": {},
   "outputs": [
    {
     "name": "stdout",
     "output_type": "stream",
     "text": [
      "LogisticRegression Accuracy Score: 91.2%\n"
     ]
    }
   ],
   "source": [
    "# Fit and Evaluate the LogisticRegression Pipeline\n",
    "\n",
    "# Train the model\n",
    "pipeline_logreg.fit(X_train, y_train)\n",
    "\n",
    "# Predict on test set\n",
    "y_pred_logreg = pipeline_logreg.predict(X_test)\n",
    "\n",
    "# Evaluate\n",
    "acc_score_logreg = accuracy_score(y_test, y_pred_logreg)\n",
    "print('LogisticRegression Accuracy Score: {:.1%}'.format(acc_score_logreg))"
   ]
  },
  {
   "cell_type": "code",
   "execution_count": 29,
   "id": "27ec9328-7b18-4b1e-bd37-7f72995dfb4c",
   "metadata": {},
   "outputs": [
    {
     "name": "stdout",
     "output_type": "stream",
     "text": [
      "[LightGBM] [Info] Auto-choosing row-wise multi-threading, the overhead of testing was 0.207842 seconds.\n",
      "You can set `force_row_wise=true` to remove the overhead.\n",
      "And if memory is not enough, you can set `force_col_wise=true`.\n",
      "[LightGBM] [Info] Total Bins 479316\n",
      "[LightGBM] [Info] Number of data points in the train set: 26745, number of used features: 11505\n",
      "[LightGBM] [Info] Start training from score -2.279120\n",
      "[LightGBM] [Info] Start training from score -0.900801\n",
      "[LightGBM] [Info] Start training from score -1.536800\n",
      "[LightGBM] [Info] Start training from score -1.286220\n",
      "LightGBMClassifier Accuracy Score: 86.9%\n"
     ]
    }
   ],
   "source": [
    "# Fit and Evaluate the LightGBM Classifier Pipeline\n",
    "\n",
    "# Train the model\n",
    "pipeline_lgb.fit(X_train, y_train)\n",
    "\n",
    "# Predict on test set\n",
    "y_pred_lgb = pipeline_lgb.predict(X_test)\n",
    "\n",
    "# Evaluate\n",
    "acc_score_lgb = accuracy_score(y_test, y_pred_lgb)\n",
    "print('LightGBMClassifier Accuracy Score: {:.1%}'.format(acc_score_lgb))"
   ]
  },
  {
   "cell_type": "code",
   "execution_count": 30,
   "id": "93800c96-6e70-4d79-9212-ff0a659cf633",
   "metadata": {},
   "outputs": [
    {
     "name": "stdout",
     "output_type": "stream",
     "text": [
      "['Problem' 'Request' 'Incident' 'Change' 'Problem' 'Incident' 'Request'\n",
      " 'Change' 'Incident' 'Incident']\n",
      "['Problem' 'Request' 'Incident' 'Change' 'Problem' 'Problem' 'Request'\n",
      " 'Request' 'Incident' 'Problem']\n"
     ]
    }
   ],
   "source": [
    "# Output first 10 y_test and y_pred_log labels\n",
    "print(y_test.values[:10])\n",
    "print(y_pred_logreg[:10])"
   ]
  },
  {
   "cell_type": "code",
   "execution_count": 31,
   "id": "fbdd2871-e6e2-41a1-96d0-f420d6eecda9",
   "metadata": {},
   "outputs": [
    {
     "name": "stdout",
     "output_type": "stream",
     "text": [
      "[[ 628    7    5   18]\n",
      " [   0 2572  184    4]\n",
      " [   0  353 1061    1]\n",
      " [   8    4    3 1839]]\n",
      "6687\n"
     ]
    }
   ],
   "source": [
    "# Build confusion matrix - LogisticRegression\n",
    "print(confusion_matrix(y_test, y_pred_logreg))\n",
    "print(confusion_matrix(y_test, y_pred_logreg).sum())"
   ]
  },
  {
   "cell_type": "code",
   "execution_count": 32,
   "id": "a2409834-817e-4a52-ae2b-ead778004cf9",
   "metadata": {},
   "outputs": [
    {
     "name": "stdout",
     "output_type": "stream",
     "text": [
      "              precision    recall  f1-score   support\n",
      "\n",
      "      Change       0.99      0.95      0.97       658\n",
      "    Incident       0.88      0.93      0.90      2760\n",
      "     Problem       0.85      0.75      0.80      1415\n",
      "     Request       0.99      0.99      0.99      1854\n",
      "\n",
      "    accuracy                           0.91      6687\n",
      "   macro avg       0.92      0.91      0.91      6687\n",
      "weighted avg       0.91      0.91      0.91      6687\n",
      "\n"
     ]
    }
   ],
   "source": [
    "# Build classification report - LogisticRegression\n",
    "print(classification_report(y_test, y_pred_logreg))"
   ]
  },
  {
   "cell_type": "code",
   "execution_count": 33,
   "id": "85482d95-5eda-4537-89f4-db87369619e7",
   "metadata": {},
   "outputs": [
    {
     "name": "stdout",
     "output_type": "stream",
     "text": [
      "['Problem' 'Request' 'Incident' 'Change' 'Problem' 'Incident' 'Request'\n",
      " 'Change' 'Incident' 'Incident']\n",
      "['Problem' 'Request' 'Incident' 'Change' 'Problem' 'Problem' 'Request'\n",
      " 'Request' 'Incident' 'Problem']\n"
     ]
    }
   ],
   "source": [
    "# Output first 10 y_test and y_pred_lgb labels\n",
    "print(y_test.values[:10])\n",
    "print(y_pred_lgb[:10])"
   ]
  },
  {
   "cell_type": "code",
   "execution_count": 34,
   "id": "a56476b2-21ac-4981-ae47-94d314d9e10a",
   "metadata": {},
   "outputs": [
    {
     "name": "stdout",
     "output_type": "stream",
     "text": [
      "[[ 614    6    4   34]\n",
      " [   0 2574  182    4]\n",
      " [   1  617  793    4]\n",
      " [  11    5    5 1833]]\n",
      "6687\n"
     ]
    }
   ],
   "source": [
    "# Build confusion matrix - LGBMClassifier\n",
    "print(confusion_matrix(y_test, y_pred_lgb))\n",
    "print(confusion_matrix(y_test, y_pred_lgb).sum())"
   ]
  },
  {
   "cell_type": "code",
   "execution_count": 35,
   "id": "8fd75638-a8c2-4cda-b7c6-0c87e0a2cbef",
   "metadata": {},
   "outputs": [
    {
     "name": "stdout",
     "output_type": "stream",
     "text": [
      "              precision    recall  f1-score   support\n",
      "\n",
      "      Change       0.98      0.93      0.96       658\n",
      "    Incident       0.80      0.93      0.86      2760\n",
      "     Problem       0.81      0.56      0.66      1415\n",
      "     Request       0.98      0.99      0.98      1854\n",
      "\n",
      "    accuracy                           0.87      6687\n",
      "   macro avg       0.89      0.85      0.87      6687\n",
      "weighted avg       0.87      0.87      0.86      6687\n",
      "\n"
     ]
    }
   ],
   "source": [
    "# Build classification report - LGBMClassifier\n",
    "print(classification_report(y_test, y_pred_lgb))"
   ]
  },
  {
   "cell_type": "code",
   "execution_count": 36,
   "id": "c7ae42e6-8028-4fa8-bd05-f1cd2fea8ab8",
   "metadata": {},
   "outputs": [
    {
     "name": "stdout",
     "output_type": "stream",
     "text": [
      "Incident\n"
     ]
    }
   ],
   "source": [
    "# Lets do a test using row 23222 of the original data frame\n",
    "print(it_ticks['label'][23222])"
   ]
  },
  {
   "cell_type": "code",
   "execution_count": 37,
   "id": "19cc8ff0-fc05-415c-a40d-c59e70c1a996",
   "metadata": {},
   "outputs": [],
   "source": [
    "test = it_ticks[['text', 'len_words']].iloc[23222].to_frame().T"
   ]
  },
  {
   "cell_type": "code",
   "execution_count": 38,
   "id": "ea2871fb-df47-422c-ac13-05e6b710d18e",
   "metadata": {},
   "outputs": [
    {
     "name": "stdout",
     "output_type": "stream",
     "text": [
      "                                                    text len_words\n",
      "23222  A brief account of the issue: Encrypted medica...        39\n"
     ]
    }
   ],
   "source": [
    "print(test)"
   ]
  },
  {
   "cell_type": "code",
   "execution_count": 39,
   "id": "bb4f67ab-02e2-47e1-a0ba-2df76f271c59",
   "metadata": {},
   "outputs": [
    {
     "name": "stdout",
     "output_type": "stream",
     "text": [
      "Incident\n"
     ]
    }
   ],
   "source": [
    "# Prediction using LogisticRegression pipeline\n",
    "prediction_logreg = pipeline_logreg.predict(test)\n",
    "print(prediction_logreg[0])"
   ]
  },
  {
   "cell_type": "markdown",
   "id": "ba7b3b7a-25c4-48e9-bb3a-64c708cf57ed",
   "metadata": {},
   "source": [
    "Actual label and prediction match --> Incident"
   ]
  },
  {
   "cell_type": "code",
   "execution_count": 41,
   "id": "8eca74ea-d2c4-4d2d-8ed3-8de0b02a88f8",
   "metadata": {},
   "outputs": [
    {
     "name": "stdout",
     "output_type": "stream",
     "text": [
      "Incident\n"
     ]
    }
   ],
   "source": [
    "# Prediction using LGBMClassifier pipeline\n",
    "prediction_lgb = pipeline_lgb.predict(test)\n",
    "print(prediction_lgb[0])"
   ]
  },
  {
   "cell_type": "markdown",
   "id": "d62a7e86-ee02-4640-9447-928e7e03431d",
   "metadata": {},
   "source": [
    "Actual label and prediction match --> Incident"
   ]
  },
  {
   "cell_type": "code",
   "execution_count": null,
   "id": "a41b8f82-50f4-4449-bcec-52bfb179b839",
   "metadata": {},
   "outputs": [],
   "source": []
  }
 ],
 "metadata": {
  "kernelspec": {
   "display_name": "Python 3 (ipykernel)",
   "language": "python",
   "name": "python3"
  },
  "language_info": {
   "codemirror_mode": {
    "name": "ipython",
    "version": 3
   },
   "file_extension": ".py",
   "mimetype": "text/x-python",
   "name": "python",
   "nbconvert_exporter": "python",
   "pygments_lexer": "ipython3",
   "version": "3.11.10"
  }
 },
 "nbformat": 4,
 "nbformat_minor": 5
}
